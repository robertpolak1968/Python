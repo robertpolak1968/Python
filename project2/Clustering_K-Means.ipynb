{
 "cells": [
  {
   "cell_type": "code",
   "execution_count": 16,
   "metadata": {},
   "outputs": [
    {
     "name": "stdout",
     "output_type": "stream",
     "text": [
      "(10, 2)\n",
      "[[ 1.00507879  4.59464203]\n",
      " [ 1.12847762  4.32812233]\n",
      " [ 2.11788106  0.72684451]\n",
      " [ 0.95562631  4.38590703]\n",
      " [-1.35401677  2.76944926]\n",
      " [-1.07295309  2.62700913]\n",
      " [-2.03750198  3.04860598]\n",
      " [ 2.35408334  0.85663201]\n",
      " [ 2.14404017  0.96439853]\n",
      " [ 1.16628776  4.27351589]]\n"
     ]
    },
    {
     "data": {
      "text/plain": [
       "<matplotlib.collections.PathCollection at 0x1a23f60190>"
      ]
     },
     "execution_count": 16,
     "metadata": {},
     "output_type": "execute_result"
    },
    {
     "data": {
      "image/png": "[encoded data removed]",
      "text/plain": [
       "<Figure size 432x288 with 1 Axes>"
      ]
     },
     "metadata": {
      "needs_background": "light"
     },
     "output_type": "display_data"
    }
   ],
   "source": [
    "# We will use the make_blobs method module from sklearn.datasets module for creating the toy data for this experiment\n",
    "\n",
    "# Imports\n",
    "from sklearn.datasets.samples_generator import make_blobs\n",
    "\n",
    "# Generate 2D data points\n",
    "X, y = make_blobs(n_samples=10, centers=3, n_features=2,\n",
    "                 cluster_std=0.2,  random_state=0)\n",
    "\n",
    "\n",
    "# make_blobs method generate isotropic Gaussian blobs for clustering. Read more in the User Guide.\n",
    "\n",
    "# n_samples : int, optional (default=100)\n",
    "# The total number of points equally divided among clusters.\n",
    "# n_features : int, optional (default=2)\n",
    "# The number of features for each sample.\n",
    "# centers : int or array of shape [n_centers, n_features], optional\n",
    "# (default=3) The number of centers to generate, or the fixed center locations.\n",
    "# cluster_std: float or sequence of floats, optional (default=1.0)\n",
    "# The standard deviation of the clusters.\n",
    "# center_box: pair of floats (min, max), optional (default=(-10.0, 10.0))\n",
    "# The bounding box for each cluster center when centers are generated at random.\n",
    "# shuffle : boolean, optional (default=True)\n",
    "# Shuffle the samples.\n",
    "# random_state : int, RandomState instance or None, optional (default=None)\n",
    "# If int, random_state is the seed used by the random number generator; If RandomState instance, random_state is the random number generator; If None, the random number generator is the RandomState instance used by np.random.\n",
    "\n",
    "# Returns\n",
    "# X : array of shape [n_samples, n_features]\n",
    "# The generated samples.\n",
    "# y : array of shape [n_samples]\n",
    "# The integer labels for cluster membership of each sample.\n",
    "\n",
    "print(X.shape)\n",
    "print (X)\n",
    "#Visualization \n",
    "import matplotlib.pyplot as plt\n",
    "plt.scatter(X[:, 0], X[:, -1])"
   ]
  },
  {
   "cell_type": "code",
   "execution_count": 2,
   "metadata": {},
   "outputs": [
    {
     "name": "stdout",
     "output_type": "stream",
     "text": [
      "     Object   X_value   Y_value\n",
      "0  Object 1  1.005079  4.594642\n",
      "1  Object 2  1.128478  4.328122\n",
      "2  Object 3  2.117881  0.726845\n",
      "3  Object 4  0.955626  4.385907\n",
      "4  Object 5 -1.354017  2.769449\n"
     ]
    }
   ],
   "source": [
    "# Convert the data points into a pandas DataFrame\n",
    "import pandas as pd\n",
    "\n",
    "# Generate object header for the data points\n",
    "obj_names = []\n",
    "for i in range(1, 11):\n",
    "    obj = \"Object \" + str(i)\n",
    "    obj_names.append(obj)\n",
    "\n",
    "# Create a pandas DataFrame with the names and (x, y) coordinates\n",
    "data = pd.DataFrame({\n",
    "    'Object': obj_names,\n",
    "    'X_value': X[:, 0],\n",
    "    'Y_value': X[:, -1]\n",
    "})\n",
    "\n",
    "# Preview the data\n",
    "print(data.head())"
   ]
  },
  {
   "cell_type": "code",
   "execution_count": 3,
   "metadata": {},
   "outputs": [],
   "source": [
    "# To start using K-Means, you need to specify the number of K which is nothing but the number of clusters you want \n",
    "# out of the data. We will use K = 3\n",
    "\n",
    "# Below is the step-by-step implementation of the algorithm\n",
    "\n",
    "# You start the process by taking three(as we decided K to be 3) random points (in the form of (x, y)). \n",
    "# These points are called centroids or centers. Let’s name these three points - C1, C2, and C3 \n",
    "\n",
    "# Initialize the centroids\n",
    "c1 = (-1, 4)\n",
    "c2 = (-0.2, 1.5)\n",
    "c3 = (2, 2.5)"
   ]
  },
  {
   "cell_type": "code",
   "execution_count": 4,
   "metadata": {},
   "outputs": [],
   "source": [
    "# Calculate distances between the centroids and the data points\n",
    "# Next, you measure the distances of the data points from these three randomly chosen points. A very popular choice of \n",
    "# distance measurement function, in this case, is the Euclidean distance.\n",
    "\n",
    "# Let's write a small helper function to calculate the Euclidean distances between the data points and centroids.\n",
    "\n",
    "import numpy as np\n",
    "\n",
    "def calculate_distance(centroid, X, Y):\n",
    "    distances = []\n",
    "        \n",
    "    # Unpack the x and y coordinates of the centroid\n",
    "    c_x, c_y = centroid\n",
    "        \n",
    "    # Iterate over the data points and calculate the distance \n",
    "    for x, y in list(zip(X, Y)):\n",
    "        root_diff_x = (x - c_x) ** 2\n",
    "        root_diff_y = (y - c_y) ** 2\n",
    "        distance = np.sqrt(root_diff_x + root_diff_y)\n",
    "        distances.append(distance)\n",
    "        \n",
    "    return distances\n"
   ]
  },
  {
   "cell_type": "code",
   "execution_count": 5,
   "metadata": {},
   "outputs": [
    {
     "name": "stdout",
     "output_type": "stream",
     "text": [
      "     Object   X_value   Y_value  C1_Distance  C2_Distance  C3_Distance\n",
      "0  Object 1  1.005079  4.594642     2.091397     3.320997     2.318921\n",
      "1  Object 2  1.128478  4.328122     2.153620     3.124601     2.025236\n",
      "2  Object 3  2.117881  0.726845     4.520479     2.443428     1.777070\n",
      "3  Object 4  0.955626  4.385907     1.993339     3.108686     2.155774\n",
      "4  Object 5 -1.354017  2.769449     1.280462     1.715592     3.364823\n"
     ]
    }
   ],
   "source": [
    "# We can now apply this function to the data points and assign the results in the DataFrame accordingly\n",
    "\n",
    "# Calculate the distance and assign them to the DataFrame accordingly\n",
    "data['C1_Distance'] = calculate_distance(c1, data.X_value, data.Y_value)\n",
    "data['C2_Distance'] = calculate_distance(c2, data.X_value, data.Y_value)\n",
    "data['C3_Distance'] = calculate_distance(c3, data.X_value, data.Y_value)\n",
    "\n",
    "# Preview the data\n",
    "print(data.head())"
   ]
  },
  {
   "cell_type": "code",
   "execution_count": 9,
   "metadata": {},
   "outputs": [
    {
     "name": "stdout",
     "output_type": "stream",
     "text": [
      "      Object   X_value   Y_value  C1_Distance  C2_Distance  C3_Distance  \\\n",
      "0   Object 1  1.005079  4.594642     2.091397     3.320997     2.318921   \n",
      "1   Object 2  1.128478  4.328122     2.153620     3.124601     2.025236   \n",
      "2   Object 3  2.117881  0.726845     4.520479     2.443428     1.777070   \n",
      "3   Object 4  0.955626  4.385907     1.993339     3.108686     2.155774   \n",
      "4   Object 5 -1.354017  2.769449     1.280462     1.715592     3.364823   \n",
      "5   Object 6 -1.072953  2.627009     1.374928     1.425551     3.075577   \n",
      "6   Object 7 -2.037502  3.048606     1.407679     2.403038     4.074603   \n",
      "7   Object 8  2.354083  0.856632     4.596807     2.633869     1.681081   \n",
      "8   Object 9  2.144040  0.964399     4.370339     2.404453     1.542342   \n",
      "9  Object 10  1.166288  4.273516     2.183487     3.091785     1.959703   \n",
      "\n",
      "  Cluster  \n",
      "0      C1  \n",
      "1      C3  \n",
      "2      C3  \n",
      "3      C1  \n",
      "4      C1  \n",
      "5      C1  \n",
      "6      C1  \n",
      "7      C3  \n",
      "8      C3  \n",
      "9      C3  \n"
     ]
    }
   ],
   "source": [
    "# The final step\n",
    "# Once you have the distances between the data points and the centroids, you compare the distances and take the smallest\n",
    "# ones. The centroid to which the distance for a particular data point is the smallest, that centroid gets assigned as \n",
    "# the cluster for that particular data point.\n",
    "\n",
    "# Get the minimum distance centroids\n",
    "data['Cluster'] = data[['C1_Distance', 'C2_Distance', 'C3_Distance']].apply(np.argmin, axis =1)\n",
    "    \n",
    "# Map the centroids accordingly and rename them\n",
    "data['Cluster'] = data['Cluster'].map({'C1_Distance': 'C1', 'C2_Distance': 'C2', 'C3_Distance': 'C3'})\n",
    "    \n",
    "# Get a preview of the data\n",
    "print(data)\n",
    "\n"
   ]
  },
  {
   "cell_type": "code",
   "execution_count": 10,
   "metadata": {},
   "outputs": [
    {
     "name": "stdout",
     "output_type": "stream",
     "text": [
      "Centroid 1 (-0.500753347459331, 3.4851226841526897)\n",
      "Centroid 2 (1.7821539902873855, 2.2299026522421928)\n"
     ]
    }
   ],
   "source": [
    "# Updating the centroids\n",
    "# Determine the mean values of the coordinates of the data points (which should be belonging to some centroid by now).\n",
    "\n",
    "# Calculate the coordinates of the new centroid from cluster 1\n",
    "x_new_centroid1 = data[data['Cluster']=='C1']['X_value'].mean()\n",
    "y_new_centroid1 = data[data['Cluster']=='C1']['Y_value'].mean()\n",
    "\n",
    "# Calculate the coordinates of the new centroid from cluster 2\n",
    "x_new_centroid2 = data[data['Cluster']=='C3']['X_value'].mean()\n",
    "y_new_centroid2 = data[data['Cluster']=='C3']['Y_value'].mean()\n",
    "\n",
    "# Print the coordinates of the new centroids\n",
    "print('Centroid 1 ({}, {})'.format(x_new_centroid1, y_new_centroid1))\n",
    "print('Centroid 2 ({}, {})'.format(x_new_centroid2, y_new_centroid2))\n",
    "\n"
   ]
  },
  {
   "cell_type": "code",
   "execution_count": 11,
   "metadata": {},
   "outputs": [
    {
     "name": "stdout",
     "output_type": "stream",
     "text": [
      "[[-1.48815728  2.81502145]\n",
      " [ 2.20533486  0.84929168]\n",
      " [ 1.06386762  4.39554682]]\n",
      "[2 2 1 2 0 0 0 1 1 2]\n"
     ]
    }
   ],
   "source": [
    "# K-Means clustering with scikit-learn\n",
    "# The K-Means method from the sklearn.cluster module makes the implementation of K-Means algorithm\n",
    "\n",
    "from sklearn.cluster import KMeans\n",
    "    \n",
    "# Specify the number of clusters (3) and fit the data X\n",
    "kmeans = KMeans(n_clusters=3, random_state=0).fit(X)\n",
    "\n",
    "# Get the cluster centroids\n",
    "print(kmeans.cluster_centers_)\n",
    "    \n",
    "# Get the cluster labels\n",
    "print(kmeans.labels_)"
   ]
  },
  {
   "cell_type": "code",
   "execution_count": 15,
   "metadata": {},
   "outputs": [
    {
     "data": {
      "image/png": "[encoded data removed]",
      "text/plain": [
       "<Figure size 432x288 with 1 Axes>"
      ]
     },
     "metadata": {
      "needs_background": "light"
     },
     "output_type": "display_data"
    }
   ],
   "source": [
    "# Plotting the cluster centers and the data points on a 2D plane\n",
    "import matplotlib.pyplot as plt\n",
    "plt.scatter(X[:, 0], X[:, -1])\n",
    "    \n",
    "plt.scatter(kmeans.cluster_centers_[:, 0], kmeans.cluster_centers_[:, 1], c='red', marker='x')\n",
    "    \n",
    "plt.title('Data points and cluster centroids')\n",
    "plt.show()"
   ]
  },
  {
   "cell_type": "code",
   "execution_count": null,
   "metadata": {},
   "outputs": [],
   "source": []
  }
 ],
 "metadata": {
  "kernelspec": {
   "display_name": "Python 3",
   "language": "python",
   "name": "python3"
  },
  "language_info": {
   "codemirror_mode": {
    "name": "ipython",
    "version": 3
   },
   "file_extension": ".py",
   "mimetype": "text/x-python",
   "name": "python",
   "nbconvert_exporter": "python",
   "pygments_lexer": "ipython3",
   "version": "3.7.4"
  }
 },
 "nbformat": 4,
 "nbformat_minor": 2
}
